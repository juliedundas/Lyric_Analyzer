{
 "cells": [
  {
   "cell_type": "code",
   "execution_count": 181,
   "metadata": {},
   "outputs": [],
   "source": [
    "# Dependencies\n",
    "from bs4 import BeautifulSoup\n",
    "import requests\n",
    "import pandas as pd\n",
    "from collections import Counter"
   ]
  },
  {
   "cell_type": "code",
   "execution_count": 182,
   "metadata": {},
   "outputs": [],
   "source": [
    "#Create variable for the url\n",
    "url = \"https://search.azlyrics.com/search.php?q=phoebe+bridgers&w=songs&p=1\""
   ]
  },
  {
   "cell_type": "code",
   "execution_count": 183,
   "metadata": {},
   "outputs": [],
   "source": [
    "# Retrieve page with the requests module\n",
    "response =requests.get(url)\n",
    "#print(response)"
   ]
  },
  {
   "cell_type": "code",
   "execution_count": 184,
   "metadata": {},
   "outputs": [],
   "source": [
    " # Create BeautifulSoup object; parse with 'html.parser'\n",
    "soup = BeautifulSoup(response.text, 'html.parser')"
   ]
  },
  {
   "cell_type": "code",
   "execution_count": 185,
   "metadata": {},
   "outputs": [],
   "source": [
    "# Examine the results, then determine element that contains sought info\n",
    "#print(soup.prettify())"
   ]
  },
  {
   "cell_type": "code",
   "execution_count": 186,
   "metadata": {},
   "outputs": [],
   "source": [
    "# results are returned as an iterable list\n",
    "results = soup.find_all('td', class_=\"text-left visitedlyr\")"
   ]
  },
  {
   "cell_type": "code",
   "execution_count": 187,
   "metadata": {},
   "outputs": [],
   "source": [
    "#print(results)"
   ]
  },
  {
   "cell_type": "code",
   "execution_count": 188,
   "metadata": {},
   "outputs": [
    {
     "name": "stdout",
     "output_type": "stream",
     "text": [
      "\"I Know The End\"\n",
      "Somewhere in Germany but I can't place it Man, I hate this part of Texas Close my eyes, fantasize Three clicks and I'm home When I get back I'll lay around And I'll get up and lay back down Romanticize the quiet life There's no place like my room But...\n",
      "---------------------------------\n",
      "\"Graceland Too\"\n",
      "No longer a danger to herself or others She made up her mind and laced up her shoes Yelled down the hall but nobody answered So she walked outside without an excuse She could do anything she wants to She could do whatever she wants to do She could go...\n",
      "---------------------------------\n",
      "\"Punisher\"\n",
      "When the speed kicks in I go to the store for nothing And walk right by The house where you lived with Snow White I wonder if she ever thought The storybook tiles on the roof were too much But from the window, it's not a bad show If you're favorite t...\n",
      "---------------------------------\n",
      "\"Chinese Satellite\"\n",
      "I've been running around in circles Pretending to be myself Why would somebody do this on purpose When they could do something else? Drowning out the morning birds With the same three songs over and over I wish I wrote it, but I didn't so I learn the...\n",
      "---------------------------------\n",
      "\"Savior Complex\"\n",
      "Emotional affair Overly sincere Smoking in the car Windows up Crocodile tears Run the tap 'til it's clear Drift off on the floor I drag you to the shore Sweating through the heat You're gonna drown in your sleep For sure, wake up and start a big fire...\n",
      "---------------------------------\n",
      "\"Moon Song\"\n",
      "You asked to walk me home But I had to carry you And you pushed me in Now my feet can't touch the bottom of you You couldn't have, you couldn't have Stuck your tongue down the throat of somebody Who loves you more I will wait for the next time you wa...\n",
      "---------------------------------\n",
      "\"Halloween\"\n",
      "I hate living by the hospital The sirens go all night I used to joke that if they woke you up Somebody better be dying Sick of the questions I keep asking you They make you live in the past But I can count on you to tell me the truth When you've been...\n",
      "---------------------------------\n",
      "\"Garden Song\"\n",
      "Someday I'm gonna live In your house up on the hill And when your skinhead neighbor goes missing I'll plant a garden in the yard then They're gluing roses on a flatbed You should see it, I mean thousands I grew up here till it all went up in flames E...\n",
      "---------------------------------\n",
      "\"Kyoto\"\n",
      "Day off in Kyoto, got bored at the temple Looked around at the 7-11 The band took the speed train, went to the arcade I wanted to go but I didn't You called me from a payphone, they still got pay phones It costs a dollar a minute To tell me you're ge...\n",
      "---------------------------------\n",
      "\"I See You\"\n",
      "Laying down on the lawn I'm tired of trying to get in the house I'm thinking out loud I've been playing dead My whole life And I get this feeling whenever I feel good It'll be the last time But I feel something when I see you now I feel something whe...\n",
      "---------------------------------\n",
      "\"Smoke Signals\"\n",
      "I went with you up to The place you grew up in We spent a week in the cold Just long enough to \"Walden\" it with you Any longer, it would have got old Singing \"Ace of Spades\" when Lemmy died But nothing's changed, L.A.'s all right Sleeping in my bed a...\n",
      "---------------------------------\n",
      "\"Motion Sickness\"\n",
      "I hate you for what you did And I miss you like a little kid I faked it every time but that's alright I can hardly feel anything I hardly feel anything at all You gave me fifteen hundred To see your hypnotherapist I only went one time, you let it sli...\n",
      "---------------------------------\n",
      "\"Funeral\"\n",
      "I'm singing at a funeral tomorrow For a kid a year older than me And I've been talking to his dad, it makes me so sad When I think too much about it I can't breathe And I have this dream where I'm screaming underwater While my friends are all waving ...\n",
      "---------------------------------\n",
      "\"Scott Street\"\n",
      "Walking Scott Street, feeling like a stranger With an open heart, open container I've got a stack of mail and a tall can It's a shower beer it's a payment plan There's helicopters over my head Every night when I go to bed Spending money and I earned ...\n",
      "---------------------------------\n",
      "\"It'll All Work Out\"\n",
      "She wore faded jeans and soft black leather She had eyes so blue they looked like weather When she needed me I wasn't around That's the way it goes, it'll all work out There were times apart and times together I was pledged to her for worse or better...\n",
      "---------------------------------\n",
      "\"Demi Moore\"\n",
      "Take a dirty picture, babe I can't sleep and I miss your face In my hands and in my knees Tell me what you wanna do to me Tell me what you'll do, please I don't wanna be alone I don't wanna be alone anymore You got quiet on the other line Said the su...\n",
      "---------------------------------\n",
      "\"Killer\"\n",
      "Sometimes I think I'm a killer Scared you in your house Even scared myself by talking About Dahmer on your couch But I can't sleep next to a body Even harmless in death Plus I'm pretty sure I'd miss you And faking sleep to count your breath Can the k...\n",
      "---------------------------------\n",
      "\"Georgia\"\n",
      "Georgia, Georgia I love your son When he gets older, he might be the one He might be the one Georgia, Georgia he has beautiful bones And he never lies or picks up his phone Sometimes in the pouring rain He'll fall in the mud and get back up again And...\n",
      "---------------------------------\n",
      "\"Would You Rather\"\n",
      "Playing would you rather When it comes to fire You always say that you'd prefer to drown You were still in the ambulance When the cop suggested You're the one who tried to burn it down Come to find out I'm a can on a string, you're on the end We find...\n",
      "---------------------------------\n",
      "\"You Missed My Heart\"\n",
      "Broke into her house, saw her sitting there Drinking coke and whiskey in her bra and underwear Saw him in the kitchen, hanging up the phone I asked him nicely once to pack his things and go He gave her a reassuring look, said he wouldn't leave But I ...\n",
      "---------------------------------\n"
     ]
    }
   ],
   "source": [
    "lyrics_list = []\n",
    "\n",
    "for result in results:\n",
    "    title = result.find('b').text\n",
    "    lyrics = result.find('small').text\n",
    "    print(title)\n",
    "    print(lyrics)\n",
    "    lyrics_list.append(lyrics)\n",
    "    print(\"---------------------------------\")"
   ]
  },
  {
   "cell_type": "code",
   "execution_count": 189,
   "metadata": {},
   "outputs": [
    {
     "data": {
      "text/plain": [
       "[\"Somewhere in Germany but I can't place it Man, I hate this part of Texas Close my eyes, fantasize Three clicks and I'm home When I get back I'll lay around And I'll get up and lay back down Romanticize the quiet life There's no place like my room But...\",\n",
       " 'No longer a danger to herself or others She made up her mind and laced up her shoes Yelled down the hall but nobody answered So she walked outside without an excuse She could do anything she wants to She could do whatever she wants to do She could go...',\n",
       " \"When the speed kicks in I go to the store for nothing And walk right by The house where you lived with Snow White I wonder if she ever thought The storybook tiles on the roof were too much But from the window, it's not a bad show If you're favorite t...\",\n",
       " \"I've been running around in circles Pretending to be myself Why would somebody do this on purpose When they could do something else? Drowning out the morning birds With the same three songs over and over I wish I wrote it, but I didn't so I learn the...\",\n",
       " \"Emotional affair Overly sincere Smoking in the car Windows up Crocodile tears Run the tap 'til it's clear Drift off on the floor I drag you to the shore Sweating through the heat You're gonna drown in your sleep For sure, wake up and start a big fire...\",\n",
       " \"You asked to walk me home But I had to carry you And you pushed me in Now my feet can't touch the bottom of you You couldn't have, you couldn't have Stuck your tongue down the throat of somebody Who loves you more I will wait for the next time you wa...\",\n",
       " \"I hate living by the hospital The sirens go all night I used to joke that if they woke you up Somebody better be dying Sick of the questions I keep asking you They make you live in the past But I can count on you to tell me the truth When you've been...\",\n",
       " \"Someday I'm gonna live In your house up on the hill And when your skinhead neighbor goes missing I'll plant a garden in the yard then They're gluing roses on a flatbed You should see it, I mean thousands I grew up here till it all went up in flames E...\",\n",
       " \"Day off in Kyoto, got bored at the temple Looked around at the 7-11 The band took the speed train, went to the arcade I wanted to go but I didn't You called me from a payphone, they still got pay phones It costs a dollar a minute To tell me you're ge...\",\n",
       " \"Laying down on the lawn I'm tired of trying to get in the house I'm thinking out loud I've been playing dead My whole life And I get this feeling whenever I feel good It'll be the last time But I feel something when I see you now I feel something whe...\",\n",
       " 'I went with you up to The place you grew up in We spent a week in the cold Just long enough to \"Walden\" it with you Any longer, it would have got old Singing \"Ace of Spades\" when Lemmy died But nothing\\'s changed, L.A.\\'s all right Sleeping in my bed a...',\n",
       " \"I hate you for what you did And I miss you like a little kid I faked it every time but that's alright I can hardly feel anything I hardly feel anything at all You gave me fifteen hundred To see your hypnotherapist I only went one time, you let it sli...\",\n",
       " \"I'm singing at a funeral tomorrow For a kid a year older than me And I've been talking to his dad, it makes me so sad When I think too much about it I can't breathe And I have this dream where I'm screaming underwater While my friends are all waving ...\",\n",
       " \"Walking Scott Street, feeling like a stranger With an open heart, open container I've got a stack of mail and a tall can It's a shower beer it's a payment plan There's helicopters over my head Every night when I go to bed Spending money and I earned ...\",\n",
       " \"She wore faded jeans and soft black leather She had eyes so blue they looked like weather When she needed me I wasn't around That's the way it goes, it'll all work out There were times apart and times together I was pledged to her for worse or better...\",\n",
       " \"Take a dirty picture, babe I can't sleep and I miss your face In my hands and in my knees Tell me what you wanna do to me Tell me what you'll do, please I don't wanna be alone I don't wanna be alone anymore You got quiet on the other line Said the su...\",\n",
       " \"Sometimes I think I'm a killer Scared you in your house Even scared myself by talking About Dahmer on your couch But I can't sleep next to a body Even harmless in death Plus I'm pretty sure I'd miss you And faking sleep to count your breath Can the k...\",\n",
       " \"Georgia, Georgia I love your son When he gets older, he might be the one He might be the one Georgia, Georgia he has beautiful bones And he never lies or picks up his phone Sometimes in the pouring rain He'll fall in the mud and get back up again And...\",\n",
       " \"Playing would you rather When it comes to fire You always say that you'd prefer to drown You were still in the ambulance When the cop suggested You're the one who tried to burn it down Come to find out I'm a can on a string, you're on the end We find...\",\n",
       " \"Broke into her house, saw her sitting there Drinking coke and whiskey in her bra and underwear Saw him in the kitchen, hanging up the phone I asked him nicely once to pack his things and go He gave her a reassuring look, said he wouldn't leave But I ...\"]"
      ]
     },
     "execution_count": 189,
     "metadata": {},
     "output_type": "execute_result"
    }
   ],
   "source": [
    "lyrics_list"
   ]
  },
  {
   "cell_type": "code",
   "execution_count": 190,
   "metadata": {},
   "outputs": [],
   "source": [
    "#lyrics_list.count(\"Next\")"
   ]
  },
  {
   "cell_type": "code",
   "execution_count": 191,
   "metadata": {},
   "outputs": [
    {
     "data": {
      "text/plain": [
       "0"
      ]
     },
     "execution_count": 191,
     "metadata": {},
     "output_type": "execute_result"
    }
   ],
   "source": [
    "for lyric in lyrics_list:\n",
    "    letter = lyrics_list.count(\"Georgia\")\n",
    "    #print(letter)    \n",
    "    \n",
    "letter    "
   ]
  },
  {
   "cell_type": "code",
   "execution_count": 193,
   "metadata": {},
   "outputs": [
    {
     "name": "stdout",
     "output_type": "stream",
     "text": [
      "[\"Somewhere in Germany but I can't place it Man, I hate this part of Texas Close my eyes, fantasize Three clicks and I'm home When I get back I'll lay around And I'll get up and lay back down Romanticize the quiet life There's no place like my room But...\"]\n"
     ]
    }
   ],
   "source": [
    "word_search=['Germany']\n",
    "\n",
    "result = []\n",
    "\n",
    "for word in word_search:\n",
    "    for phrase in lyrics_list:\n",
    "        if word.lower() in phrase.lower():\n",
    "          result.append(phrase)\n",
    "\n",
    "unique_result = set(result)\n",
    "print(result)\n",
    "#print(unique_result)"
   ]
  },
  {
   "cell_type": "code",
   "execution_count": null,
   "metadata": {},
   "outputs": [],
   "source": []
  },
  {
   "cell_type": "code",
   "execution_count": null,
   "metadata": {},
   "outputs": [],
   "source": []
  },
  {
   "cell_type": "code",
   "execution_count": null,
   "metadata": {},
   "outputs": [],
   "source": []
  }
 ],
 "metadata": {
  "kernelspec": {
   "display_name": "Python 3",
   "language": "python",
   "name": "python3"
  },
  "language_info": {
   "codemirror_mode": {
    "name": "ipython",
    "version": 3
   },
   "file_extension": ".py",
   "mimetype": "text/x-python",
   "name": "python",
   "nbconvert_exporter": "python",
   "pygments_lexer": "ipython3",
   "version": "3.7.4"
  }
 },
 "nbformat": 4,
 "nbformat_minor": 2
}
